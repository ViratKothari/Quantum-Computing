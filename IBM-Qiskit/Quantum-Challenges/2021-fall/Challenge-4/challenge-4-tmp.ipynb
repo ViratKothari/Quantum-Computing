{
 "cells": [
  {
   "cell_type": "markdown",
   "id": "5056da39",
   "metadata": {},
   "source": [
    "## IBM Quantum Challenge Fall 2021\n",
    "# Challenge 4: Battery revenue optimization\n",
    "\n",
    "Challenge 4 will be available in a later date. Please stay tuned and enjoy tackling other challenges in the meanwhile!"
   ]
  }
 ],
 "metadata": {
  "kernelspec": {
   "display_name": "iqc21f-grader",
   "language": "python",
   "name": "iqc21f-grader"
  },
  "language_info": {
   "codemirror_mode": {
    "name": "ipython",
    "version": 3
   },
   "file_extension": ".py",
   "mimetype": "text/x-python",
   "name": "python",
   "nbconvert_exporter": "python",
   "pygments_lexer": "ipython3",
   "version": "3.8.10"
  }
 },
 "nbformat": 4,
 "nbformat_minor": 5
}
