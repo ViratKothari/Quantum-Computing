{
 "cells": [
  {
   "cell_type": "markdown",
   "metadata": {},
   "source": [
    "# Quantum State Tomography"
   ]
  },
  {
   "cell_type": "code",
   "execution_count": 1,
   "metadata": {},
   "outputs": [],
   "source": [
    "import qiskit\n",
    "from qiskit_experiments.framework import ParallelExperiment\n",
    "from qiskit_experiments.library import StateTomography\n",
    "\n",
    "# For simulation\n",
    "from qiskit.providers.aer import AerSimulator\n",
    "from qiskit.test.mock import FakeParis\n",
    "\n",
    "# Noisy simulator backend\n",
    "backend = AerSimulator.from_backend(FakeParis())"
   ]
  },
  {
   "cell_type": "markdown",
   "metadata": {},
   "source": [
    "## State Tomography Experiment\n",
    "\n",
    "To run a state tomography experiment we initialize the experiment with a circuit to prepare the state to be measured. We can also pass in an `Operator`, or a `Statevector` to describe the preparation circuit."
   ]
  },
  {
   "cell_type": "code",
   "execution_count": 2,
   "metadata": {},
   "outputs": [
    {
     "name": "stdout",
     "output_type": "stream",
     "text": [
      "DbAnalysisResultV1\n",
      "- name: state\n",
      "- value: DensityMatrix([[ 0.48421224+0.j        , -0.00309245+0.00309245j,\n",
      "                 0.01676432+0.00048828j,  0.01660156-0.44775391j],\n",
      "               [-0.00309245-0.00309245j,  0.02750651+0.j        ,\n",
      "                -0.00390625+0.00537109j,  0.00309245-0.00146484j],\n",
      "               [ 0.01676432-0.00048828j, -0.00390625-0.00537109j,\n",
      "                 0.03011068+0.j        , -0.00797526-0.00569661j],\n",
      "               [ 0.01660156+0.44775391j,  0.00309245+0.00146484j,\n",
      "                -0.00797526+0.00569661j,  0.45817057+0.j        ]],\n",
      "              dims=(2, 2))\n",
      "- extra: <4 items>\n",
      "- device_components: ['Q0', 'Q1']\n",
      "- verified: False\n",
      "DbAnalysisResultV1\n",
      "- name: state_fidelity\n",
      "- value: 0.9189453124999996\n",
      "- device_components: ['Q0', 'Q1']\n",
      "- verified: False\n",
      "DbAnalysisResultV1\n",
      "- name: positive\n",
      "- value: True\n",
      "- device_components: ['Q0', 'Q1']\n",
      "- verified: False\n"
     ]
    }
   ],
   "source": [
    "# Run experiments\n",
    "\n",
    "# GHZ State preparation circuit\n",
    "nq = 2\n",
    "qc_ghz = qiskit.QuantumCircuit(nq)\n",
    "qc_ghz.h(0)\n",
    "qc_ghz.s(0)\n",
    "for i in range(1, nq):\n",
    "    qc_ghz.cx(0, i)\n",
    "\n",
    "# QST Experiment\n",
    "qstexp1 = StateTomography(qc_ghz)\n",
    "qstdata1 = qstexp1.run(backend, seed_simulation=100).block_for_results()\n",
    "\n",
    "# Print results\n",
    "for result in qstdata1.analysis_results():\n",
    "    print(result)"
   ]
  },
  {
   "cell_type": "markdown",
   "metadata": {},
   "source": [
    "### Tomography Results\n",
    "\n",
    "The main result for tomography is the fitted state, which is stored as a `DensityMatrix` object:"
   ]
  },
  {
   "cell_type": "code",
   "execution_count": 3,
   "metadata": {},
   "outputs": [
    {
     "name": "stdout",
     "output_type": "stream",
     "text": [
      "DensityMatrix([[ 0.48421224+0.j        , -0.00309245+0.00309245j,\n",
      "                 0.01676432+0.00048828j,  0.01660156-0.44775391j],\n",
      "               [-0.00309245-0.00309245j,  0.02750651+0.j        ,\n",
      "                -0.00390625+0.00537109j,  0.00309245-0.00146484j],\n",
      "               [ 0.01676432-0.00048828j, -0.00390625-0.00537109j,\n",
      "                 0.03011068+0.j        , -0.00797526-0.00569661j],\n",
      "               [ 0.01660156+0.44775391j,  0.00309245+0.00146484j,\n",
      "                -0.00797526+0.00569661j,  0.45817057+0.j        ]],\n",
      "              dims=(2, 2))\n"
     ]
    }
   ],
   "source": [
    "state_result = qstdata1.analysis_results(\"state\")\n",
    "print(state_result.value)"
   ]
  },
  {
   "cell_type": "markdown",
   "metadata": {},
   "source": [
    "The state fidelity of the fitted state with the ideal state prepared by the input circuit is stored in the `\"state_fidelity\"` result field. Note that if the input circuit contained any measurements the ideal state cannot be automatically generated and this field will be set to `None`."
   ]
  },
  {
   "cell_type": "code",
   "execution_count": 4,
   "metadata": {},
   "outputs": [
    {
     "name": "stdout",
     "output_type": "stream",
     "text": [
      "State Fidelity = 0.91895\n"
     ]
    }
   ],
   "source": [
    "fid_result = qstdata1.analysis_results(\"state_fidelity\")\n",
    "print(\"State Fidelity = {:.5f}\".format(fid_result.value))"
   ]
  },
  {
   "cell_type": "markdown",
   "metadata": {},
   "source": [
    "#### Additional state metadata\n",
    "\n",
    "Additional data is stored in the tomography under the `\"state_metadata\"` field. This includes\n",
    "- `eigvals`: the eigenvalues of the fitted state\n",
    "- `trace`: the trace of the fitted state\n",
    "- `positive`: Whether the eigenvalues are all non-negative\n",
    "- `positive_delta`: the deviation from positivity given by 1-norm of negative eigenvalues.\n",
    "\n",
    "If trace rescaling was performed this dictionary will also contain a `raw_trace` field containing the trace before rescaling.\n",
    "Futhermore, if the state was rescaled to be positive or trace 1 an additional field `raw_eigvals` will contain the state eigenvalues before rescaling was performed."
   ]
  },
  {
   "cell_type": "code",
   "execution_count": 5,
   "metadata": {},
   "outputs": [
    {
     "data": {
      "text/plain": [
       "{'fitter': 'linear_inversion',\n",
       " 'fitter_time': 0.00232696533203125,\n",
       " 'eigvals': array([0.9197649 , 0.04063239, 0.02551458, 0.01408814]),\n",
       " 'trace': 1.0000000000000002}"
      ]
     },
     "execution_count": 5,
     "metadata": {},
     "output_type": "execute_result"
    }
   ],
   "source": [
    "state_result.extra"
   ]
  },
  {
   "cell_type": "markdown",
   "metadata": {},
   "source": [
    "To see the effect of rescaling we can perform a \"bad\" fit with very low counts"
   ]
  },
  {
   "cell_type": "code",
   "execution_count": 6,
   "metadata": {},
   "outputs": [
    {
     "name": "stdout",
     "output_type": "stream",
     "text": [
      "DbAnalysisResultV1\n",
      "- name: state\n",
      "- value: DensityMatrix([[ 0.43622746+0.00000000e+00j,  0.05138676+4.99391814e-02j,\n",
      "                -0.00306491-5.52153122e-02j, -0.14554754-4.22947404e-01j],\n",
      "               [ 0.05138676-4.99391814e-02j,  0.01362761+0.00000000e+00j,\n",
      "                -0.0043994 +3.62881273e-05j, -0.07558927-3.67544469e-02j],\n",
      "               [-0.00306491+5.52153122e-02j, -0.0043994 -3.62881273e-05j,\n",
      "                 0.03044341+0.00000000e+00j,  0.03025771+1.35412073e-02j],\n",
      "               [-0.14554754+4.22947404e-01j, -0.07558927+3.67544469e-02j,\n",
      "                 0.03025771-1.35412073e-02j,  0.51970153+0.00000000e+00j]],\n",
      "              dims=(2, 2))\n",
      "- extra: <5 items>\n",
      "- device_components: ['Q0', 'Q1']\n",
      "- verified: False\n"
     ]
    },
    {
     "data": {
      "text/plain": [
       "{'fitter': 'linear_inversion',\n",
       " 'fitter_time': 0.0013802051544189453,\n",
       " 'eigvals': array([0.94406352, 0.05593648, 0.        , 0.        ]),\n",
       " 'raw_eigvals': array([ 0.99490614,  0.10677911,  0.04411653, -0.14580179]),\n",
       " 'trace': 0.9999999999999992}"
      ]
     },
     "execution_count": 6,
     "metadata": {},
     "output_type": "execute_result"
    }
   ],
   "source": [
    "# QST Experiment\n",
    "bad_data = qstexp1.run(backend, shots=10, seed_simulation=100).block_for_results()\n",
    "bad_state_result = bad_data.analysis_results(\"state\")\n",
    "\n",
    "# Print result\n",
    "print(bad_state_result)\n",
    "\n",
    "# Show extra data\n",
    "bad_state_result.extra"
   ]
  },
  {
   "cell_type": "markdown",
   "metadata": {},
   "source": [
    "## Tomography Fitters\n",
    "\n",
    "The default fitters is `linear_inversion`, which reconstructs the state using *dual basis* of the tomography basis. This will typically result in a non-postive reconstructed state. This state is rescaled to be postive-semidfinite (PSD) by computing its eigen-decomposition and rescaling its eigenvalues using the approach from *J Smolin, JM Gambetta, G Smith, Phys. Rev. Lett. 108, 070502 (2012), [open access](https://arxiv.org/abs/arXiv:1106.5458).\n",
    "\n",
    "There are several other fitters are included (See API documentation for details). For example if `cvxpy` is installed we can use the `cvxpy_gaussian_lstsq` fitter which allows constraining the fit to be PSD without requiring rescaling."
   ]
  },
  {
   "cell_type": "code",
   "execution_count": 7,
   "metadata": {},
   "outputs": [
    {
     "name": "stdout",
     "output_type": "stream",
     "text": [
      "DbAnalysisResultV1\n",
      "- name: state\n",
      "- value: DensityMatrix([[ 0.49143631+0.00000000e+00j,  0.00326385-1.03722828e-04j,\n",
      "                -0.01415099-1.56676188e-02j,  0.00503769-4.44943896e-01j],\n",
      "               [ 0.00326385+1.03722828e-04j,  0.02682787+0.00000000e+00j,\n",
      "                 0.00956292+2.59008462e-03j,  0.01619132-3.06513469e-03j],\n",
      "               [-0.01415099+1.56676188e-02j,  0.00956292-2.59008462e-03j,\n",
      "                 0.02575371-4.33680869e-19j,  0.00971971-1.02442434e-02j],\n",
      "               [ 0.00503769+4.44943896e-01j,  0.01619132+3.06513469e-03j,\n",
      "                 0.00971971+1.02442434e-02j,  0.45598212-8.67361738e-19j]],\n",
      "              dims=(2, 2))\n",
      "- extra: <8 items>\n",
      "- device_components: ['Q0', 'Q1']\n",
      "- verified: False\n",
      "\n",
      "extra:\n",
      "- cvxpy_solver: CVXOPT\n",
      "- cvxpy_status: optimal\n",
      "- fitter: cvxpy_gaussian_lstsq\n",
      "- fitter_time: 0.03989887237548828\n",
      "- eigvals: [0.91957528 0.05046516 0.02616115 0.00379841]\n",
      "- raw_eigvals: [0.91881748 0.05042357 0.02613959 0.00379528]\n",
      "- trace: 1.0\n",
      "- raw_trace: 0.9991759245154755\n"
     ]
    }
   ],
   "source": [
    "try:\n",
    "    import cvxpy\n",
    "    \n",
    "    # Set analysis option for cvxpy fitter\n",
    "    qstexp1.set_analysis_options(fitter='cvxpy_gaussian_lstsq')\n",
    "    \n",
    "    # Re-run experiment\n",
    "    qstdata2 = qstexp1.run(backend, seed_simulation=100).block_for_results()\n",
    "\n",
    "    state_result2 = qstdata2.analysis_results(\"state\")\n",
    "    print(state_result2)   \n",
    "    print(\"\\nextra:\")\n",
    "    for key, val in state_result2.extra.items():\n",
    "        print(f\"- {key}: {val}\")\n",
    "\n",
    "except ModuleNotFoundError:\n",
    "    print(\"CVXPY is not installed\")"
   ]
  },
  {
   "cell_type": "markdown",
   "metadata": {},
   "source": [
    "## Parallel Tomography Experiment\n",
    "\n",
    "We can also use the `qiskit_experiments.ParallelExperiment` class to run subsystem tomography on multiple qubits in parallel.\n",
    "\n",
    "For example if we want to perform 1-qubit QST on several qubits at once:"
   ]
  },
  {
   "cell_type": "code",
   "execution_count": 8,
   "metadata": {},
   "outputs": [
    {
     "name": "stdout",
     "output_type": "stream",
     "text": [
      "DbAnalysisResultV1\n",
      "- name: parallel_experiment\n",
      "- value: 5\n",
      "- extra: <2 items>\n",
      "- device_components: ['Q0', 'Q1', 'Q2', 'Q3', 'Q4']\n",
      "- verified: False\n"
     ]
    }
   ],
   "source": [
    "from math import pi\n",
    "num_qubits = 5\n",
    "gates = [qiskit.circuit.library.RXGate(i * pi / (num_qubits - 1))\n",
    "         for i in range(num_qubits)]\n",
    "\n",
    "subexps = [\n",
    "    StateTomography(gate, qubits=[i])\n",
    "    for i, gate in enumerate(gates)\n",
    "]\n",
    "parexp = ParallelExperiment(subexps)\n",
    "pardata = parexp.run(backend, seed_simulation=100).block_for_results()\n",
    "\n",
    "for result in pardata.analysis_results():\n",
    "    print(result)"
   ]
  },
  {
   "cell_type": "markdown",
   "metadata": {},
   "source": [
    "View component experiment analysis results"
   ]
  },
  {
   "cell_type": "code",
   "execution_count": 9,
   "metadata": {},
   "outputs": [
    {
     "name": "stdout",
     "output_type": "stream",
     "text": [
      "\n",
      "PARALLEL EXP 0\n",
      "State Fidelity: 0.98828\n",
      "State: DensityMatrix([[ 0.98828125+0.j        , -0.00195312-0.03515625j],\n",
      "               [-0.00195312+0.03515625j,  0.01171875+0.j        ]],\n",
      "              dims=(2,))\n",
      "\n",
      "PARALLEL EXP 1\n",
      "State Fidelity: 0.96887\n",
      "State: DensityMatrix([[0.84667969+0.j        , 0.04785156+0.31640625j],\n",
      "               [0.04785156-0.31640625j, 0.15332031+0.j        ]],\n",
      "              dims=(2,))\n",
      "\n",
      "PARALLEL EXP 2\n",
      "State Fidelity: 0.97656\n",
      "State: DensityMatrix([[0.50683594+0.j       , 0.01171875+0.4765625j],\n",
      "               [0.01171875-0.4765625j, 0.49316406+0.j       ]],\n",
      "              dims=(2,))\n",
      "\n",
      "PARALLEL EXP 3\n",
      "State Fidelity: 0.96542\n",
      "State: DensityMatrix([[0.16699219+0.j        , 0.01269531+0.32519531j],\n",
      "               [0.01269531-0.32519531j, 0.83300781+0.j        ]],\n",
      "              dims=(2,))\n",
      "\n",
      "PARALLEL EXP 4\n",
      "State Fidelity: 0.97070\n",
      "State: DensityMatrix([[0.02929688+0.j        , 0.        +0.01171875j],\n",
      "               [0.        -0.01171875j, 0.97070312+0.j        ]],\n",
      "              dims=(2,))\n"
     ]
    }
   ],
   "source": [
    "for i in range(parexp.num_experiments):\n",
    "    expdata = pardata.component_experiment_data(i)\n",
    "    state_result_i = expdata.analysis_results(\"state\")\n",
    "    fid_result_i = expdata.analysis_results(\"state_fidelity\")\n",
    "    \n",
    "    print(f'\\nPARALLEL EXP {i}')\n",
    "    print(\"State Fidelity: {:.5f}\".format(fid_result_i.value))\n",
    "    print(\"State: {}\".format(state_result_i.value))"
   ]
  },
  {
   "cell_type": "code",
   "execution_count": 10,
   "metadata": {},
   "outputs": [
    {
     "data": {
      "text/html": [
       "<div style='width: 100%; background-color:#d5d9e0;padding-left: 10px; padding-bottom: 10px; padding-right: 10px; padding-top: 5px'><h3>This code is a part of Qiskit</h3><p>&copy; Copyright IBM 2017, 2021.</p><p>This code is licensed under the Apache License, Version 2.0. You may<br>obtain a copy of this license in the LICENSE.txt file in the root directory<br> of this source tree or at http://www.apache.org/licenses/LICENSE-2.0.<p>Any modifications or derivative works of this code must retain this<br>copyright notice, and modified files need to carry a notice indicating<br>that they have been altered from the originals.</p></div>"
      ],
      "text/plain": [
       "<IPython.core.display.HTML object>"
      ]
     },
     "metadata": {},
     "output_type": "display_data"
    }
   ],
   "source": [
    "import qiskit.tools.jupyter\n",
    "%qiskit_copyright"
   ]
  }
 ],
 "metadata": {
  "interpreter": {
   "hash": "c45f46a7fd077198472649b02925a2e599779de14e258f4f9ba8eb1d4e684fd2"
  },
  "kernelspec": {
   "display_name": "Python 3",
   "language": "python",
   "name": "python3"
  },
  "language_info": {
   "codemirror_mode": {
    "name": "ipython",
    "version": 3
   },
   "file_extension": ".py",
   "mimetype": "text/x-python",
   "name": "python",
   "nbconvert_exporter": "python",
   "pygments_lexer": "ipython3",
   "version": "3.7.5"
  }
 },
 "nbformat": 4,
 "nbformat_minor": 4
}
