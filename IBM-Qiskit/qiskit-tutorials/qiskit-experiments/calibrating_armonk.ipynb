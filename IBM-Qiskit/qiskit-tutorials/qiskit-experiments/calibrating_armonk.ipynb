{
 "cells": [
  {
   "cell_type": "markdown",
   "metadata": {},
   "source": [
    "# Calibrating single-qubit gates on Armonk\n",
    "\n",
    "In this tutorial we demonstrate how to calibrate single-qubit gates on Armonk using the Calibration framework in qiskit-experiments. We will run experiments to find the qubit frequency, calibrate the amplitude of DRAG pulses and chose the value of the DRAG parameter that minimizes leakage. The calibration framework requires the user to\n",
    "\n",
    "* setup an instance of `Calibrations` or `BackendCalibrations`,\n",
    "* run calibration experiments which can be found either in `qiskit_experiments.library.calibration` or `qiskit_experiments.library.characterization`, and\n",
    "* update the values of the parameters stored in the instance of `Calibrations` (or `BackendCalibrations`) using `Update` classes. \n",
    "\n",
    "You will see that the `Update` classes are not meant to be instantiated but provide an `update` class method to extract calibrated parameter values and add them to the calibrations."
   ]
  },
  {
   "cell_type": "code",
   "execution_count": 1,
   "metadata": {},
   "outputs": [],
   "source": [
    "import numpy as np\n",
    "\n",
    "import qiskit.pulse as pulse\n",
    "from qiskit.circuit import Parameter\n",
    "\n",
    "from qiskit_experiments.calibration_management.backend_calibrations import BackendCalibrations\n",
    "\n",
    "from qiskit import IBMQ, schedule"
   ]
  },
  {
   "cell_type": "code",
   "execution_count": 2,
   "metadata": {},
   "outputs": [],
   "source": [
    "IBMQ.load_account()\n",
    "provider = IBMQ.get_provider(hub='ibm-q', group='open', project='main')\n",
    "backend = provider.get_backend('ibmq_armonk')"
   ]
  },
  {
   "cell_type": "code",
   "execution_count": 3,
   "metadata": {},
   "outputs": [],
   "source": [
    "qubit = 0  # The qubit we will work with"
   ]
  },
  {
   "cell_type": "markdown",
   "metadata": {},
   "source": [
    "The two functions below show how to setup an instance of `BackendCalibrations`. To do this the user defines the template schedules to calibrate. These template schedules are fully parameterized, even the channel indices on which the pulses are played. Furthermore, the name of the parameter in the channel index must follow the convention laid out in the documentation of the calibration module. Note that the parameters in the channel indices are automatically mapped to the channel index when `get_schedule` is called. "
   ]
  },
  {
   "cell_type": "code",
   "execution_count": 4,
   "metadata": {},
   "outputs": [],
   "source": [
    "def setup_cals(backend) -> BackendCalibrations:\n",
    "    \"\"\"A function to instantiate calibrations and add a couple of template schedules.\"\"\"\n",
    "    cals = BackendCalibrations(backend)\n",
    "\n",
    "    dur = Parameter(\"dur\")\n",
    "    amp = Parameter(\"amp\")\n",
    "    sigma = Parameter(\"σ\")\n",
    "    beta = Parameter(\"β\")\n",
    "    drive = pulse.DriveChannel(Parameter(\"ch0\"))\n",
    "\n",
    "    # Define and add template schedules.\n",
    "    with pulse.build(name=\"xp\") as xp:\n",
    "        pulse.play(pulse.Drag(dur, amp, sigma, beta), drive)\n",
    "\n",
    "    with pulse.build(name=\"xm\") as xm:\n",
    "        pulse.play(pulse.Drag(dur, -amp, sigma, beta), drive)\n",
    "        \n",
    "    with pulse.build(name=\"x90p\") as x90p:\n",
    "        pulse.play(pulse.Drag(dur, Parameter(\"amp\"), sigma, Parameter(\"β\")), drive)\n",
    "\n",
    "    cals.add_schedule(xp)\n",
    "    cals.add_schedule(xm)\n",
    "    cals.add_schedule(x90p)\n",
    "    \n",
    "    return cals\n",
    "\n",
    "def add_parameter_guesses(cals: BackendCalibrations):\n",
    "    \"\"\"Add guesses for the parameter values to the calibrations.\"\"\"\n",
    "    for sched in [\"xp\", \"x90p\"]:\n",
    "        cals.add_parameter_value(80, \"σ\", schedule=sched)\n",
    "        cals.add_parameter_value(0.5, \"β\", schedule=sched)\n",
    "        cals.add_parameter_value(320, \"dur\", schedule=sched)\n",
    "        cals.add_parameter_value(0.5, \"amp\", schedule=sched)"
   ]
  },
  {
   "cell_type": "markdown",
   "metadata": {},
   "source": [
    "When setting up the calibrations we add three pulses: a $\\pi$-rotation, with a schedule named `xp`, a schedule `xm` identical to `xp` but with a nagative amplitude, and a $\\pi/2$-rotation, with a schedule named `x90p`. Here, we have linked the amplitude of the `xp` and `xm` pulses. Therefore, calibrating the parameters of `xp` will also calibrate the parameters of `xm`."
   ]
  },
  {
   "cell_type": "code",
   "execution_count": 5,
   "metadata": {},
   "outputs": [],
   "source": [
    "cals = setup_cals(backend)\n",
    "add_parameter_guesses(cals)"
   ]
  },
  {
   "cell_type": "markdown",
   "metadata": {},
   "source": [
    "A samilar setup is achieved by using a pre-built library of gates. The library of gates provides a standard set of gates and some initial guesses for the value of the parameters in the template schedules. This is shown below using the `FixedFrequencyTransmon` which provides the `x`, `y`, `sx`, and `sy` pulses. Note that in the example below we change the default value of the pulse duration to 320 samples."
   ]
  },
  {
   "cell_type": "code",
   "execution_count": 6,
   "metadata": {},
   "outputs": [],
   "source": [
    "from qiskit_experiments.calibration_management.basis_gate_library import FixedFrequencyTransmon"
   ]
  },
  {
   "cell_type": "code",
   "execution_count": 7,
   "metadata": {},
   "outputs": [],
   "source": [
    "library = FixedFrequencyTransmon(default_values={\"duration\": 320})\n",
    "cals = BackendCalibrations(backend, library)"
   ]
  },
  {
   "cell_type": "markdown",
   "metadata": {},
   "source": [
    "## 1. Finding qubits with spectroscopy\n",
    "\n",
    "Here, we are using a backend for which we already know the qubit frequency. We will therefore use the spectroscopy experiment to confirm that there is a resonance at the qubit frequency reported by the backend."
   ]
  },
  {
   "cell_type": "code",
   "execution_count": 8,
   "metadata": {},
   "outputs": [],
   "source": [
    "from qiskit_experiments.library.characterization.qubit_spectroscopy import QubitSpectroscopy"
   ]
  },
  {
   "cell_type": "markdown",
   "metadata": {},
   "source": [
    "We first show the contents of the calibrations for qubit 0. Note that the guess values that we added before apply to all qubits on the chip. We see this in the table below as an empty tuple `()` in the qubits column. Observe that the parameter values of `xm` do not appear in this table as they are given by the values of `xp`."
   ]
  },
  {
   "cell_type": "code",
   "execution_count": 9,
   "metadata": {},
   "outputs": [
    {
     "data": {
      "text/html": [
       "<div>\n",
       "<style scoped>\n",
       "    .dataframe tbody tr th:only-of-type {\n",
       "        vertical-align: middle;\n",
       "    }\n",
       "\n",
       "    .dataframe tbody tr th {\n",
       "        vertical-align: top;\n",
       "    }\n",
       "\n",
       "    .dataframe thead th {\n",
       "        text-align: right;\n",
       "    }\n",
       "</style>\n",
       "<table border=\"1\" class=\"dataframe\">\n",
       "  <thead>\n",
       "    <tr style=\"text-align: right;\">\n",
       "      <th></th>\n",
       "      <th>value</th>\n",
       "      <th>date_time</th>\n",
       "      <th>valid</th>\n",
       "      <th>exp_id</th>\n",
       "      <th>group</th>\n",
       "      <th>qubits</th>\n",
       "      <th>parameter</th>\n",
       "      <th>schedule</th>\n",
       "    </tr>\n",
       "  </thead>\n",
       "  <tbody>\n",
       "    <tr>\n",
       "      <th>0</th>\n",
       "      <td>4.971648e+09</td>\n",
       "      <td>2021-07-30 17:53:14.422767+0000</td>\n",
       "      <td>True</td>\n",
       "      <td>None</td>\n",
       "      <td>default</td>\n",
       "      <td>(0,)</td>\n",
       "      <td>qubit_lo_freq</td>\n",
       "      <td>None</td>\n",
       "    </tr>\n",
       "    <tr>\n",
       "      <th>1</th>\n",
       "      <td>8.000000e+01</td>\n",
       "      <td>2021-07-30 17:53:14.422985+0000</td>\n",
       "      <td>True</td>\n",
       "      <td>None</td>\n",
       "      <td>default</td>\n",
       "      <td>()</td>\n",
       "      <td>σ</td>\n",
       "      <td>x</td>\n",
       "    </tr>\n",
       "    <tr>\n",
       "      <th>2</th>\n",
       "      <td>8.000000e+01</td>\n",
       "      <td>2021-07-30 17:53:14.422990+0000</td>\n",
       "      <td>True</td>\n",
       "      <td>None</td>\n",
       "      <td>default</td>\n",
       "      <td>()</td>\n",
       "      <td>σ</td>\n",
       "      <td>sx</td>\n",
       "    </tr>\n",
       "    <tr>\n",
       "      <th>3</th>\n",
       "      <td>6.993371e+09</td>\n",
       "      <td>2021-07-30 17:53:14.422786+0000</td>\n",
       "      <td>True</td>\n",
       "      <td>None</td>\n",
       "      <td>default</td>\n",
       "      <td>(0,)</td>\n",
       "      <td>meas_lo_freq</td>\n",
       "      <td>None</td>\n",
       "    </tr>\n",
       "    <tr>\n",
       "      <th>4</th>\n",
       "      <td>0.000000e+00</td>\n",
       "      <td>2021-07-30 17:53:14.422964+0000</td>\n",
       "      <td>True</td>\n",
       "      <td>None</td>\n",
       "      <td>default</td>\n",
       "      <td>()</td>\n",
       "      <td>β</td>\n",
       "      <td>x</td>\n",
       "    </tr>\n",
       "    <tr>\n",
       "      <th>5</th>\n",
       "      <td>3.200000e+02</td>\n",
       "      <td>2021-07-30 17:53:14.422981+0000</td>\n",
       "      <td>True</td>\n",
       "      <td>None</td>\n",
       "      <td>default</td>\n",
       "      <td>()</td>\n",
       "      <td>duration</td>\n",
       "      <td>x</td>\n",
       "    </tr>\n",
       "    <tr>\n",
       "      <th>6</th>\n",
       "      <td>5.000000e-01</td>\n",
       "      <td>2021-07-30 17:53:14.422975+0000</td>\n",
       "      <td>True</td>\n",
       "      <td>None</td>\n",
       "      <td>default</td>\n",
       "      <td>()</td>\n",
       "      <td>amp</td>\n",
       "      <td>x</td>\n",
       "    </tr>\n",
       "    <tr>\n",
       "      <th>7</th>\n",
       "      <td>2.500000e-01</td>\n",
       "      <td>2021-07-30 17:53:14.422995+0000</td>\n",
       "      <td>True</td>\n",
       "      <td>None</td>\n",
       "      <td>default</td>\n",
       "      <td>()</td>\n",
       "      <td>amp</td>\n",
       "      <td>sx</td>\n",
       "    </tr>\n",
       "    <tr>\n",
       "      <th>8</th>\n",
       "      <td>0.000000e+00</td>\n",
       "      <td>2021-07-30 17:53:14.423004+0000</td>\n",
       "      <td>True</td>\n",
       "      <td>None</td>\n",
       "      <td>default</td>\n",
       "      <td>()</td>\n",
       "      <td>β</td>\n",
       "      <td>sx</td>\n",
       "    </tr>\n",
       "    <tr>\n",
       "      <th>9</th>\n",
       "      <td>3.200000e+02</td>\n",
       "      <td>2021-07-30 17:53:14.422999+0000</td>\n",
       "      <td>True</td>\n",
       "      <td>None</td>\n",
       "      <td>default</td>\n",
       "      <td>()</td>\n",
       "      <td>duration</td>\n",
       "      <td>sx</td>\n",
       "    </tr>\n",
       "  </tbody>\n",
       "</table>\n",
       "</div>"
      ],
      "text/plain": [
       "          value                        date_time  valid exp_id    group  \\\n",
       "0  4.971648e+09  2021-07-30 17:53:14.422767+0000   True   None  default   \n",
       "1  8.000000e+01  2021-07-30 17:53:14.422985+0000   True   None  default   \n",
       "2  8.000000e+01  2021-07-30 17:53:14.422990+0000   True   None  default   \n",
       "3  6.993371e+09  2021-07-30 17:53:14.422786+0000   True   None  default   \n",
       "4  0.000000e+00  2021-07-30 17:53:14.422964+0000   True   None  default   \n",
       "5  3.200000e+02  2021-07-30 17:53:14.422981+0000   True   None  default   \n",
       "6  5.000000e-01  2021-07-30 17:53:14.422975+0000   True   None  default   \n",
       "7  2.500000e-01  2021-07-30 17:53:14.422995+0000   True   None  default   \n",
       "8  0.000000e+00  2021-07-30 17:53:14.423004+0000   True   None  default   \n",
       "9  3.200000e+02  2021-07-30 17:53:14.422999+0000   True   None  default   \n",
       "\n",
       "  qubits      parameter schedule  \n",
       "0   (0,)  qubit_lo_freq     None  \n",
       "1     ()              σ        x  \n",
       "2     ()              σ       sx  \n",
       "3   (0,)   meas_lo_freq     None  \n",
       "4     ()              β        x  \n",
       "5     ()       duration        x  \n",
       "6     ()            amp        x  \n",
       "7     ()            amp       sx  \n",
       "8     ()              β       sx  \n",
       "9     ()       duration       sx  "
      ]
     },
     "execution_count": 9,
     "metadata": {},
     "output_type": "execute_result"
    }
   ],
   "source": [
    "import pandas as pd\n",
    "\n",
    "pd.DataFrame(cals.parameters_table(qubit_list=[qubit, ()]))"
   ]
  },
  {
   "cell_type": "code",
   "execution_count": 10,
   "metadata": {},
   "outputs": [],
   "source": [
    "freq01_estimate = backend.defaults().qubit_freq_est[qubit]\n",
    "frequencies = np.linspace(freq01_estimate -15e6, freq01_estimate + 15e6, 51)\n",
    "spec = QubitSpectroscopy(qubit, frequencies)\n",
    "spec.set_experiment_options(amp=0.1)"
   ]
  },
  {
   "cell_type": "code",
   "execution_count": 11,
   "metadata": {},
   "outputs": [
    {
     "data": {
      "image/png": "[encoded data removed]",
      "text/plain": [
       "<Figure size 392.294x144.48 with 1 Axes>"
      ]
     },
     "execution_count": 11,
     "metadata": {},
     "output_type": "execute_result"
    }
   ],
   "source": [
    "circuit = spec.circuits(backend)[0]\n",
    "circuit.draw(output=\"mpl\")"
   ]
  },
  {
   "cell_type": "code",
   "execution_count": 12,
   "metadata": {},
   "outputs": [
    {
     "data": {
      "image/png": "[encoded data removed]",
      "text/plain": [
       "<Figure size 936x241.987 with 1 Axes>"
      ]
     },
     "execution_count": 12,
     "metadata": {},
     "output_type": "execute_result"
    }
   ],
   "source": [
    "schedule(circuit, backend).draw()"
   ]
  },
  {
   "cell_type": "code",
   "execution_count": 13,
   "metadata": {},
   "outputs": [],
   "source": [
    "spec_data = spec.run(backend)"
   ]
  },
  {
   "cell_type": "code",
   "execution_count": 14,
   "metadata": {},
   "outputs": [
    {
     "data": {
      "text/plain": [
       "ExperimentData(QubitSpectroscopy, 46bd5899-bc1d-44a1-b114-96d7cfe663cb, backend=ibmq_armonk, job_ids=['61043c91d3b44f056124661d'])"
      ]
     },
     "execution_count": 14,
     "metadata": {},
     "output_type": "execute_result"
    }
   ],
   "source": [
    "spec_data.block_for_results()"
   ]
  },
  {
   "cell_type": "code",
   "execution_count": 15,
   "metadata": {},
   "outputs": [
    {
     "data": {
      "image/png": "[encoded data removed]",
      "text/plain": [
       "<Figure size 576x360 with 1 Axes>"
      ]
     },
     "execution_count": 15,
     "metadata": {},
     "output_type": "execute_result"
    }
   ],
   "source": [
    "spec_data.figure(0)"
   ]
  },
  {
   "cell_type": "code",
   "execution_count": 16,
   "metadata": {},
   "outputs": [
    {
     "name": "stdout",
     "output_type": "stream",
     "text": [
      "DbAnalysisResultV1\n",
      "- name: f01\n",
      "- value: 4971617512.273927 ± 46140.92086748135 Hz\n",
      "- χ²: 3.122087795666665\n",
      "- quality: bad\n",
      "- device_components: ['Q0']\n",
      "- verified: False\n"
     ]
    }
   ],
   "source": [
    "print(spec_data.analysis_results(\"f01\"))"
   ]
  },
  {
   "cell_type": "markdown",
   "metadata": {},
   "source": [
    "We now update the instance of `Calibrations` with the value of the frequency that we measured using the `Frequency.update` function. Note that for the remainder of this notebook we use the value of the qubit frequency in the backend as it is not yet possible to updated qubit frequencies with the circuit path."
   ]
  },
  {
   "cell_type": "code",
   "execution_count": 17,
   "metadata": {},
   "outputs": [],
   "source": [
    "from qiskit_experiments.calibration_management.update_library import Frequency\n",
    "\n",
    "Frequency.update(cals, spec_data)"
   ]
  },
  {
   "cell_type": "code",
   "execution_count": 18,
   "metadata": {},
   "outputs": [
    {
     "data": {
      "text/html": [
       "<div>\n",
       "<style scoped>\n",
       "    .dataframe tbody tr th:only-of-type {\n",
       "        vertical-align: middle;\n",
       "    }\n",
       "\n",
       "    .dataframe tbody tr th {\n",
       "        vertical-align: top;\n",
       "    }\n",
       "\n",
       "    .dataframe thead th {\n",
       "        text-align: right;\n",
       "    }\n",
       "</style>\n",
       "<table border=\"1\" class=\"dataframe\">\n",
       "  <thead>\n",
       "    <tr style=\"text-align: right;\">\n",
       "      <th></th>\n",
       "      <th>value</th>\n",
       "      <th>date_time</th>\n",
       "      <th>valid</th>\n",
       "      <th>exp_id</th>\n",
       "      <th>group</th>\n",
       "      <th>qubits</th>\n",
       "      <th>parameter</th>\n",
       "      <th>schedule</th>\n",
       "    </tr>\n",
       "  </thead>\n",
       "  <tbody>\n",
       "    <tr>\n",
       "      <th>0</th>\n",
       "      <td>6.993371e+09</td>\n",
       "      <td>2021-07-30 17:53:14.422786+0000</td>\n",
       "      <td>True</td>\n",
       "      <td>None</td>\n",
       "      <td>default</td>\n",
       "      <td>(0,)</td>\n",
       "      <td>meas_lo_freq</td>\n",
       "      <td>None</td>\n",
       "    </tr>\n",
       "    <tr>\n",
       "      <th>1</th>\n",
       "      <td>4.971648e+09</td>\n",
       "      <td>2021-07-30 17:53:14.422767+0000</td>\n",
       "      <td>True</td>\n",
       "      <td>None</td>\n",
       "      <td>default</td>\n",
       "      <td>(0,)</td>\n",
       "      <td>qubit_lo_freq</td>\n",
       "      <td>None</td>\n",
       "    </tr>\n",
       "    <tr>\n",
       "      <th>2</th>\n",
       "      <td>4.971618e+09</td>\n",
       "      <td>2021-07-31 02:54:42.339000+0900</td>\n",
       "      <td>True</td>\n",
       "      <td>46bd5899-bc1d-44a1-b114-96d7cfe663cb</td>\n",
       "      <td>default</td>\n",
       "      <td>(0,)</td>\n",
       "      <td>qubit_lo_freq</td>\n",
       "      <td>None</td>\n",
       "    </tr>\n",
       "  </tbody>\n",
       "</table>\n",
       "</div>"
      ],
      "text/plain": [
       "          value                        date_time  valid  \\\n",
       "0  6.993371e+09  2021-07-30 17:53:14.422786+0000   True   \n",
       "1  4.971648e+09  2021-07-30 17:53:14.422767+0000   True   \n",
       "2  4.971618e+09  2021-07-31 02:54:42.339000+0900   True   \n",
       "\n",
       "                                 exp_id    group qubits      parameter  \\\n",
       "0                                  None  default   (0,)   meas_lo_freq   \n",
       "1                                  None  default   (0,)  qubit_lo_freq   \n",
       "2  46bd5899-bc1d-44a1-b114-96d7cfe663cb  default   (0,)  qubit_lo_freq   \n",
       "\n",
       "  schedule  \n",
       "0     None  \n",
       "1     None  \n",
       "2     None  "
      ]
     },
     "execution_count": 18,
     "metadata": {},
     "output_type": "execute_result"
    }
   ],
   "source": [
    "pd.DataFrame(cals.parameters_table(qubit_list=[qubit]))"
   ]
  },
  {
   "cell_type": "markdown",
   "metadata": {},
   "source": [
    "As seen from the table above the measured frequency has been added to the calibrations."
   ]
  },
  {
   "cell_type": "markdown",
   "metadata": {},
   "source": [
    "## 2. Calibrating the pulse amplitudes with a Rabi experiment\n",
    "\n",
    "In the Rabi experiment we apply a pulse at the frequency of the qubit and scan its amplitude to find the amplitude that creates a rotation of a desired angle."
   ]
  },
  {
   "cell_type": "code",
   "execution_count": 19,
   "metadata": {},
   "outputs": [],
   "source": [
    "from qiskit_experiments.library.calibration import Rabi\n",
    "from qiskit_experiments.calibration_management.update_library import Amplitude"
   ]
  },
  {
   "cell_type": "code",
   "execution_count": 20,
   "metadata": {},
   "outputs": [],
   "source": [
    "rabi = Rabi(qubit)\n",
    "rabi.set_experiment_options(\n",
    "    amplitudes=np.linspace(-0.95, 0.95, 51), \n",
    "    schedule=cals.get_schedule(\"x\", (qubit,), assign_params={\"amp\": Parameter(\"amp\")}),\n",
    ")"
   ]
  },
  {
   "cell_type": "code",
   "execution_count": 21,
   "metadata": {},
   "outputs": [
    {
     "data": {
      "text/plain": [
       "ExperimentData(Rabi, fb23c9c4-1ef9-4c69-a623-0ff4dad4a956, backend=ibmq_armonk, job_ids=['61043cead3b44fa02724661f'])"
      ]
     },
     "execution_count": 21,
     "metadata": {},
     "output_type": "execute_result"
    }
   ],
   "source": [
    "rabi_data = rabi.run(backend)\n",
    "rabi_data.block_for_results()"
   ]
  },
  {
   "cell_type": "code",
   "execution_count": 22,
   "metadata": {},
   "outputs": [
    {
     "data": {
      "image/png": "[encoded data removed]",
      "text/plain": [
       "<Figure size 576x360 with 1 Axes>"
      ]
     },
     "execution_count": 22,
     "metadata": {},
     "output_type": "execute_result"
    }
   ],
   "source": [
    "rabi_data.figure(0)"
   ]
  },
  {
   "cell_type": "code",
   "execution_count": 23,
   "metadata": {},
   "outputs": [
    {
     "name": "stdout",
     "output_type": "stream",
     "text": [
      "DbAnalysisResultV1\n",
      "- name: rabi_rate\n",
      "- value: 0.6359584889998876 ± 0.0024230516948501703\n",
      "- χ²: 2.394600326253947\n",
      "- quality: good\n",
      "- device_components: ['Q0']\n",
      "- verified: False\n"
     ]
    }
   ],
   "source": [
    "print(rabi_data.analysis_results(\"rabi_rate\"))"
   ]
  },
  {
   "cell_type": "code",
   "execution_count": 24,
   "metadata": {},
   "outputs": [],
   "source": [
    "Amplitude.update(cals, rabi_data, angles_schedules=[(np.pi, \"amp\", \"x\"), (np.pi/2, \"amp\", \"sx\")])"
   ]
  },
  {
   "cell_type": "code",
   "execution_count": 25,
   "metadata": {},
   "outputs": [
    {
     "data": {
      "text/html": [
       "<div>\n",
       "<style scoped>\n",
       "    .dataframe tbody tr th:only-of-type {\n",
       "        vertical-align: middle;\n",
       "    }\n",
       "\n",
       "    .dataframe tbody tr th {\n",
       "        vertical-align: top;\n",
       "    }\n",
       "\n",
       "    .dataframe thead th {\n",
       "        text-align: right;\n",
       "    }\n",
       "</style>\n",
       "<table border=\"1\" class=\"dataframe\">\n",
       "  <thead>\n",
       "    <tr style=\"text-align: right;\">\n",
       "      <th></th>\n",
       "      <th>value</th>\n",
       "      <th>date_time</th>\n",
       "      <th>valid</th>\n",
       "      <th>exp_id</th>\n",
       "      <th>group</th>\n",
       "      <th>qubits</th>\n",
       "      <th>parameter</th>\n",
       "      <th>schedule</th>\n",
       "    </tr>\n",
       "  </thead>\n",
       "  <tbody>\n",
       "    <tr>\n",
       "      <th>0</th>\n",
       "      <td>0.500000+0.000000j</td>\n",
       "      <td>2021-07-30 17:53:14.422975+0000</td>\n",
       "      <td>True</td>\n",
       "      <td>None</td>\n",
       "      <td>default</td>\n",
       "      <td>()</td>\n",
       "      <td>amp</td>\n",
       "      <td>x</td>\n",
       "    </tr>\n",
       "    <tr>\n",
       "      <th>1</th>\n",
       "      <td>0.250000+0.000000j</td>\n",
       "      <td>2021-07-30 17:53:14.422995+0000</td>\n",
       "      <td>True</td>\n",
       "      <td>None</td>\n",
       "      <td>default</td>\n",
       "      <td>()</td>\n",
       "      <td>amp</td>\n",
       "      <td>sx</td>\n",
       "    </tr>\n",
       "    <tr>\n",
       "      <th>2</th>\n",
       "      <td>0.786215+0.000000j</td>\n",
       "      <td>2021-07-31 02:56:07.570000+0900</td>\n",
       "      <td>True</td>\n",
       "      <td>fb23c9c4-1ef9-4c69-a623-0ff4dad4a956</td>\n",
       "      <td>default</td>\n",
       "      <td>(0,)</td>\n",
       "      <td>amp</td>\n",
       "      <td>x</td>\n",
       "    </tr>\n",
       "    <tr>\n",
       "      <th>3</th>\n",
       "      <td>0.393107+0.000000j</td>\n",
       "      <td>2021-07-31 02:56:07.570000+0900</td>\n",
       "      <td>True</td>\n",
       "      <td>fb23c9c4-1ef9-4c69-a623-0ff4dad4a956</td>\n",
       "      <td>default</td>\n",
       "      <td>(0,)</td>\n",
       "      <td>amp</td>\n",
       "      <td>sx</td>\n",
       "    </tr>\n",
       "  </tbody>\n",
       "</table>\n",
       "</div>"
      ],
      "text/plain": [
       "                value                        date_time  valid  \\\n",
       "0  0.500000+0.000000j  2021-07-30 17:53:14.422975+0000   True   \n",
       "1  0.250000+0.000000j  2021-07-30 17:53:14.422995+0000   True   \n",
       "2  0.786215+0.000000j  2021-07-31 02:56:07.570000+0900   True   \n",
       "3  0.393107+0.000000j  2021-07-31 02:56:07.570000+0900   True   \n",
       "\n",
       "                                 exp_id    group qubits parameter schedule  \n",
       "0                                  None  default     ()       amp        x  \n",
       "1                                  None  default     ()       amp       sx  \n",
       "2  fb23c9c4-1ef9-4c69-a623-0ff4dad4a956  default   (0,)       amp        x  \n",
       "3  fb23c9c4-1ef9-4c69-a623-0ff4dad4a956  default   (0,)       amp       sx  "
      ]
     },
     "execution_count": 25,
     "metadata": {},
     "output_type": "execute_result"
    }
   ],
   "source": [
    "pd.DataFrame(cals.parameters_table(qubit_list=[qubit, ()], parameters=\"amp\"))"
   ]
  },
  {
   "cell_type": "markdown",
   "metadata": {},
   "source": [
    "The table above shows that we have now updated the amplitude of our $\\pi$-pulse from 0.5 to the value obtained in the most recent Rabi experiment. Importantly, since we linked the amplitudes of the `x` and `y` schedules we will see that the amplitude of the `y` schedule has also been updated as seen when requesting schedules form the `Calibrations` instance. Furthermore, we used the result from the `Rabi` experiment to also update the value of the `sx` pulse. This was achieved by specifying `(np.pi/2, \"amp\", \"sx\")` when calling `update`."
   ]
  },
  {
   "cell_type": "code",
   "execution_count": 26,
   "metadata": {},
   "outputs": [
    {
     "data": {
      "text/plain": [
       "ScheduleBlock(Play(Drag(duration=320, amp=(0.39310742+0j), sigma=80, beta=0), DriveChannel(0)), name=\"sx\", transform=AlignLeft())"
      ]
     },
     "execution_count": 26,
     "metadata": {},
     "output_type": "execute_result"
    }
   ],
   "source": [
    "cals.get_schedule(\"sx\", qubit)"
   ]
  },
  {
   "cell_type": "code",
   "execution_count": 27,
   "metadata": {},
   "outputs": [
    {
     "data": {
      "text/plain": [
       "ScheduleBlock(Play(Drag(duration=320, amp=(0.78621484+0j), sigma=80, beta=0), DriveChannel(0)), name=\"x\", transform=AlignLeft())"
      ]
     },
     "execution_count": 27,
     "metadata": {},
     "output_type": "execute_result"
    }
   ],
   "source": [
    "cals.get_schedule(\"x\", qubit)"
   ]
  },
  {
   "cell_type": "code",
   "execution_count": 28,
   "metadata": {},
   "outputs": [
    {
     "data": {
      "text/plain": [
       "ScheduleBlock(Play(Drag(duration=320, amp=0.78621484j, sigma=80, beta=0), DriveChannel(0)), name=\"y\", transform=AlignLeft())"
      ]
     },
     "execution_count": 28,
     "metadata": {},
     "output_type": "execute_result"
    }
   ],
   "source": [
    "cals.get_schedule(\"y\", qubit)"
   ]
  },
  {
   "cell_type": "markdown",
   "metadata": {},
   "source": [
    "## 3. Saving and loading calibrations\n",
    "\n",
    "The values of the calibrated parameters can be saved to a `.csv` file and reloaded at a later point in time.  "
   ]
  },
  {
   "cell_type": "code",
   "execution_count": 29,
   "metadata": {},
   "outputs": [
    {
     "name": "stderr",
     "output_type": "stream",
     "text": [
      "/home/knzwnao/qiskit/qiskit-experiments/qiskit_experiments/calibration_management/calibrations.py:937: UserWarning: Schedules are only saved in text format. They cannot be re-loaded.\n",
      "  warnings.warn(\"Schedules are only saved in text format. They cannot be re-loaded.\")\n"
     ]
    }
   ],
   "source": [
    "cals.save(file_type=\"csv\", overwrite=True, file_prefix=\"Armonk\")"
   ]
  },
  {
   "cell_type": "markdown",
   "metadata": {},
   "source": [
    "After saving the values of the parameters you may restart your kernel. If you do so, you will only need to run the following cell to recover the state of your calibrations. Since the schedules are currently not stored we need to call our `setup_cals` function to populate an instance of `Calibrations` with the template schedules. By contrast, the value of the parameters will be recovered from the file."
   ]
  },
  {
   "cell_type": "code",
   "execution_count": 30,
   "metadata": {},
   "outputs": [],
   "source": [
    "cals = BackendCalibrations(backend, library)\n",
    "cals.load_parameter_values(file_name=\"Armonkparameter_values.csv\")"
   ]
  },
  {
   "cell_type": "code",
   "execution_count": 31,
   "metadata": {},
   "outputs": [
    {
     "data": {
      "text/html": [
       "<div>\n",
       "<style scoped>\n",
       "    .dataframe tbody tr th:only-of-type {\n",
       "        vertical-align: middle;\n",
       "    }\n",
       "\n",
       "    .dataframe tbody tr th {\n",
       "        vertical-align: top;\n",
       "    }\n",
       "\n",
       "    .dataframe thead th {\n",
       "        text-align: right;\n",
       "    }\n",
       "</style>\n",
       "<table border=\"1\" class=\"dataframe\">\n",
       "  <thead>\n",
       "    <tr style=\"text-align: right;\">\n",
       "      <th></th>\n",
       "      <th>value</th>\n",
       "      <th>date_time</th>\n",
       "      <th>valid</th>\n",
       "      <th>exp_id</th>\n",
       "      <th>group</th>\n",
       "      <th>qubits</th>\n",
       "      <th>parameter</th>\n",
       "      <th>schedule</th>\n",
       "    </tr>\n",
       "  </thead>\n",
       "  <tbody>\n",
       "    <tr>\n",
       "      <th>0</th>\n",
       "      <td>0.500000+0.000000j</td>\n",
       "      <td>2021-07-30 17:56:11.297378+0000</td>\n",
       "      <td>True</td>\n",
       "      <td>None</td>\n",
       "      <td>default</td>\n",
       "      <td>()</td>\n",
       "      <td>amp</td>\n",
       "      <td>x</td>\n",
       "    </tr>\n",
       "    <tr>\n",
       "      <th>1</th>\n",
       "      <td>0.500000+0.000000j</td>\n",
       "      <td>2021-07-30 17:53:14.422975+0000</td>\n",
       "      <td>True</td>\n",
       "      <td></td>\n",
       "      <td>default</td>\n",
       "      <td>()</td>\n",
       "      <td>amp</td>\n",
       "      <td>x</td>\n",
       "    </tr>\n",
       "    <tr>\n",
       "      <th>2</th>\n",
       "      <td>0.250000+0.000000j</td>\n",
       "      <td>2021-07-30 17:56:11.297407+0000</td>\n",
       "      <td>True</td>\n",
       "      <td>None</td>\n",
       "      <td>default</td>\n",
       "      <td>()</td>\n",
       "      <td>amp</td>\n",
       "      <td>sx</td>\n",
       "    </tr>\n",
       "    <tr>\n",
       "      <th>3</th>\n",
       "      <td>0.250000+0.000000j</td>\n",
       "      <td>2021-07-30 17:53:14.422995+0000</td>\n",
       "      <td>True</td>\n",
       "      <td></td>\n",
       "      <td>default</td>\n",
       "      <td>()</td>\n",
       "      <td>amp</td>\n",
       "      <td>sx</td>\n",
       "    </tr>\n",
       "    <tr>\n",
       "      <th>4</th>\n",
       "      <td>0.786215+0.000000j</td>\n",
       "      <td>2021-07-31 02:56:07.570000+0900</td>\n",
       "      <td>True</td>\n",
       "      <td>fb23c9c4-1ef9-4c69-a623-0ff4dad4a956</td>\n",
       "      <td>default</td>\n",
       "      <td>(0,)</td>\n",
       "      <td>amp</td>\n",
       "      <td>x</td>\n",
       "    </tr>\n",
       "    <tr>\n",
       "      <th>5</th>\n",
       "      <td>0.393107+0.000000j</td>\n",
       "      <td>2021-07-31 02:56:07.570000+0900</td>\n",
       "      <td>True</td>\n",
       "      <td>fb23c9c4-1ef9-4c69-a623-0ff4dad4a956</td>\n",
       "      <td>default</td>\n",
       "      <td>(0,)</td>\n",
       "      <td>amp</td>\n",
       "      <td>sx</td>\n",
       "    </tr>\n",
       "  </tbody>\n",
       "</table>\n",
       "</div>"
      ],
      "text/plain": [
       "                value                        date_time  valid  \\\n",
       "0  0.500000+0.000000j  2021-07-30 17:56:11.297378+0000   True   \n",
       "1  0.500000+0.000000j  2021-07-30 17:53:14.422975+0000   True   \n",
       "2  0.250000+0.000000j  2021-07-30 17:56:11.297407+0000   True   \n",
       "3  0.250000+0.000000j  2021-07-30 17:53:14.422995+0000   True   \n",
       "4  0.786215+0.000000j  2021-07-31 02:56:07.570000+0900   True   \n",
       "5  0.393107+0.000000j  2021-07-31 02:56:07.570000+0900   True   \n",
       "\n",
       "                                 exp_id    group qubits parameter schedule  \n",
       "0                                  None  default     ()       amp        x  \n",
       "1                                        default     ()       amp        x  \n",
       "2                                  None  default     ()       amp       sx  \n",
       "3                                        default     ()       amp       sx  \n",
       "4  fb23c9c4-1ef9-4c69-a623-0ff4dad4a956  default   (0,)       amp        x  \n",
       "5  fb23c9c4-1ef9-4c69-a623-0ff4dad4a956  default   (0,)       amp       sx  "
      ]
     },
     "execution_count": 31,
     "metadata": {},
     "output_type": "execute_result"
    }
   ],
   "source": [
    "pd.DataFrame(cals.parameters_table(qubit_list=[qubit, ()], parameters=\"amp\"))"
   ]
  },
  {
   "cell_type": "markdown",
   "metadata": {},
   "source": [
    "## 4. Calibrating the value of the DRAG coefficient\n",
    "\n",
    "A Derivative Removal by Adiabatic Gate (DRAG) pulse is designed to minimize leakage\n",
    "to a neighbouring transition. It is a standard pulse with an additional derivative\n",
    "component. It is designed to reduce the frequency spectrum of a normal pulse near\n",
    "the $|1\\rangle$ - $|2\\rangle$ transition, reducing the chance of leakage\n",
    "to the $|2\\rangle$ state. The optimal value of the DRAG parameter is chosen to\n",
    "minimize both leakage and phase errors resulting from the AC Stark shift.\n",
    "The pulse envelope is $f(t) = \\Omega_x(t) + j \\beta \\frac{\\rm d}{{\\rm d }t} \\Omega_x(t)$.\n",
    "Here, $\\Omega_x$ is the envelop of the in-phase component of the pulse and\n",
    "$\\beta$ is the strength of the quadrature which we refer to as the DRAG\n",
    "parameter and seek to calibrate in this experiment. \n",
    "The DRAG calibration will run\n",
    "several series of circuits. In a given circuit a Rp(β) - Rm(β) block is repeated\n",
    "$N$ times. Here, Rp is a rotation with a positive angle and Rm is the same rotation\n",
    "with a negative amplitude."
   ]
  },
  {
   "cell_type": "code",
   "execution_count": 32,
   "metadata": {},
   "outputs": [],
   "source": [
    "from qiskit_experiments.library.calibration.drag import DragCal\n",
    "from qiskit_experiments.calibration_management.update_library import Drag"
   ]
  },
  {
   "cell_type": "code",
   "execution_count": 33,
   "metadata": {},
   "outputs": [],
   "source": [
    "cal_drag = DragCal(qubit)"
   ]
  },
  {
   "cell_type": "code",
   "execution_count": 34,
   "metadata": {},
   "outputs": [
    {
     "data": {
      "image/png": "[encoded data removed]",
      "text/plain": [
       "<Figure size 994.294x144.48 with 1 Axes>"
      ]
     },
     "execution_count": 34,
     "metadata": {},
     "output_type": "execute_result"
    }
   ],
   "source": [
    "cal_drag.set_experiment_options(\n",
    "    rp=cals.get_schedule(\"x\", qubit, assign_params={\"β\": Parameter(\"β\")}),\n",
    "    betas=np.linspace(-20, 20, 25),\n",
    "    reps=[3, 5, 7]\n",
    ")\n",
    "\n",
    "cal_drag.circuits(backend)[1].draw(output='mpl')"
   ]
  },
  {
   "cell_type": "code",
   "execution_count": 35,
   "metadata": {},
   "outputs": [
    {
     "data": {
      "text/plain": [
       "ExperimentData(DragCal, 56de17e6-ed83-4280-9df3-b53c14154952, backend=ibmq_armonk, job_ids=['61043d401e71b07cf7bfc3d1'])"
      ]
     },
     "execution_count": 35,
     "metadata": {},
     "output_type": "execute_result"
    }
   ],
   "source": [
    "drag_data = cal_drag.run(backend)\n",
    "drag_data.block_for_results()"
   ]
  },
  {
   "cell_type": "code",
   "execution_count": 36,
   "metadata": {},
   "outputs": [
    {
     "data": {
      "image/png": "[encoded data removed]",
      "text/plain": [
       "<Figure size 576x360 with 1 Axes>"
      ]
     },
     "execution_count": 36,
     "metadata": {},
     "output_type": "execute_result"
    }
   ],
   "source": [
    "drag_data.figure(0)"
   ]
  },
  {
   "cell_type": "code",
   "execution_count": 37,
   "metadata": {},
   "outputs": [
    {
     "name": "stdout",
     "output_type": "stream",
     "text": [
      "DbAnalysisResultV1\n",
      "- name: beta\n",
      "- value: -0.8424663551657885 ± 0.016291164278910576\n",
      "- χ²: 1.0897174737821766\n",
      "- quality: good\n",
      "- device_components: ['Q0']\n",
      "- verified: False\n"
     ]
    }
   ],
   "source": [
    "print(drag_data.analysis_results(\"beta\"))"
   ]
  },
  {
   "cell_type": "code",
   "execution_count": 38,
   "metadata": {},
   "outputs": [],
   "source": [
    "Drag.update(cals, drag_data, parameter=\"β\", schedule=\"x\")"
   ]
  },
  {
   "cell_type": "code",
   "execution_count": 39,
   "metadata": {},
   "outputs": [
    {
     "data": {
      "text/html": [
       "<div>\n",
       "<style scoped>\n",
       "    .dataframe tbody tr th:only-of-type {\n",
       "        vertical-align: middle;\n",
       "    }\n",
       "\n",
       "    .dataframe tbody tr th {\n",
       "        vertical-align: top;\n",
       "    }\n",
       "\n",
       "    .dataframe thead th {\n",
       "        text-align: right;\n",
       "    }\n",
       "</style>\n",
       "<table border=\"1\" class=\"dataframe\">\n",
       "  <thead>\n",
       "    <tr style=\"text-align: right;\">\n",
       "      <th></th>\n",
       "      <th>value</th>\n",
       "      <th>date_time</th>\n",
       "      <th>valid</th>\n",
       "      <th>exp_id</th>\n",
       "      <th>group</th>\n",
       "      <th>qubits</th>\n",
       "      <th>parameter</th>\n",
       "      <th>schedule</th>\n",
       "    </tr>\n",
       "  </thead>\n",
       "  <tbody>\n",
       "    <tr>\n",
       "      <th>0</th>\n",
       "      <td>0.000000</td>\n",
       "      <td>2021-07-30 17:56:11.297365+0000</td>\n",
       "      <td>True</td>\n",
       "      <td>None</td>\n",
       "      <td>default</td>\n",
       "      <td>()</td>\n",
       "      <td>β</td>\n",
       "      <td>x</td>\n",
       "    </tr>\n",
       "    <tr>\n",
       "      <th>1</th>\n",
       "      <td>0.000000</td>\n",
       "      <td>2021-07-30 17:53:14.422964+0000</td>\n",
       "      <td>True</td>\n",
       "      <td></td>\n",
       "      <td>default</td>\n",
       "      <td>()</td>\n",
       "      <td>β</td>\n",
       "      <td>x</td>\n",
       "    </tr>\n",
       "    <tr>\n",
       "      <th>2</th>\n",
       "      <td>-0.842466</td>\n",
       "      <td>2021-07-31 02:57:58.051000+0900</td>\n",
       "      <td>True</td>\n",
       "      <td>56de17e6-ed83-4280-9df3-b53c14154952</td>\n",
       "      <td>default</td>\n",
       "      <td>(0,)</td>\n",
       "      <td>β</td>\n",
       "      <td>x</td>\n",
       "    </tr>\n",
       "    <tr>\n",
       "      <th>3</th>\n",
       "      <td>0.000000</td>\n",
       "      <td>2021-07-30 17:56:11.297420+0000</td>\n",
       "      <td>True</td>\n",
       "      <td>None</td>\n",
       "      <td>default</td>\n",
       "      <td>()</td>\n",
       "      <td>β</td>\n",
       "      <td>sx</td>\n",
       "    </tr>\n",
       "    <tr>\n",
       "      <th>4</th>\n",
       "      <td>0.000000</td>\n",
       "      <td>2021-07-30 17:53:14.423004+0000</td>\n",
       "      <td>True</td>\n",
       "      <td></td>\n",
       "      <td>default</td>\n",
       "      <td>()</td>\n",
       "      <td>β</td>\n",
       "      <td>sx</td>\n",
       "    </tr>\n",
       "  </tbody>\n",
       "</table>\n",
       "</div>"
      ],
      "text/plain": [
       "      value                        date_time  valid  \\\n",
       "0  0.000000  2021-07-30 17:56:11.297365+0000   True   \n",
       "1  0.000000  2021-07-30 17:53:14.422964+0000   True   \n",
       "2 -0.842466  2021-07-31 02:57:58.051000+0900   True   \n",
       "3  0.000000  2021-07-30 17:56:11.297420+0000   True   \n",
       "4  0.000000  2021-07-30 17:53:14.423004+0000   True   \n",
       "\n",
       "                                 exp_id    group qubits parameter schedule  \n",
       "0                                  None  default     ()         β        x  \n",
       "1                                        default     ()         β        x  \n",
       "2  56de17e6-ed83-4280-9df3-b53c14154952  default   (0,)         β        x  \n",
       "3                                  None  default     ()         β       sx  \n",
       "4                                        default     ()         β       sx  "
      ]
     },
     "execution_count": 39,
     "metadata": {},
     "output_type": "execute_result"
    }
   ],
   "source": [
    "pd.DataFrame(cals.parameters_table(qubit_list=[qubit, ()], parameters=\"β\"))"
   ]
  },
  {
   "cell_type": "markdown",
   "metadata": {},
   "source": [
    "## 5. Fine amplitude calibration\n",
    "\n",
    "The `FineAmplitude` calibration experiment repeats $N$ times a gate with a pulse\n",
    "to amplify the under or over-rotations in the gate to determine the optimal amplitude.\n",
    "The circuits that are run have a custom gate with the pulse schedule attached to it\n",
    "through the calibrations."
   ]
  },
  {
   "cell_type": "code",
   "execution_count": 40,
   "metadata": {},
   "outputs": [],
   "source": [
    "from qiskit_experiments.library.calibration.fine_amplitude import FineXAmplitude\n",
    "from qiskit_experiments.calibration_management.update_library import Amplitude"
   ]
  },
  {
   "cell_type": "code",
   "execution_count": 41,
   "metadata": {},
   "outputs": [],
   "source": [
    "amp_x_cal = FineXAmplitude(qubit)\n",
    "amp_x_cal.set_experiment_options(schedule=cals.get_schedule(\"x\", qubit))"
   ]
  },
  {
   "cell_type": "code",
   "execution_count": 42,
   "metadata": {},
   "outputs": [
    {
     "data": {
      "image/png": "[encoded data removed]",
      "text/plain": [
       "<Figure size 538.279x144.48 with 1 Axes>"
      ]
     },
     "execution_count": 42,
     "metadata": {},
     "output_type": "execute_result"
    }
   ],
   "source": [
    "amp_x_cal.circuits(backend)[5].draw(output=\"mpl\")"
   ]
  },
  {
   "cell_type": "code",
   "execution_count": 43,
   "metadata": {},
   "outputs": [
    {
     "data": {
      "text/plain": [
       "ExperimentData(FineXAmplitude, 65378703-3c55-4193-aa42-81e69425aa42, backend=ibmq_armonk, job_ids=['61043dac754b9d825454607d'])"
      ]
     },
     "execution_count": 43,
     "metadata": {},
     "output_type": "execute_result"
    }
   ],
   "source": [
    "data_fine = amp_x_cal.run(backend)\n",
    "data_fine.block_for_results()"
   ]
  },
  {
   "cell_type": "code",
   "execution_count": 44,
   "metadata": {},
   "outputs": [
    {
     "data": {
      "image/png": "[encoded data removed]",
      "text/plain": [
       "<Figure size 576x360 with 1 Axes>"
      ]
     },
     "execution_count": 44,
     "metadata": {},
     "output_type": "execute_result"
    }
   ],
   "source": [
    "data_fine.figure(0)"
   ]
  },
  {
   "cell_type": "code",
   "execution_count": 45,
   "metadata": {},
   "outputs": [
    {
     "name": "stdout",
     "output_type": "stream",
     "text": [
      "DbAnalysisResultV1\n",
      "- name: d_theta\n",
      "- value: -0.0662944270879526 ± 0.00225309047635176\n",
      "- χ²: 0.9234748761823247\n",
      "- quality: good\n",
      "- device_components: ['Q0']\n",
      "- verified: False\n"
     ]
    }
   ],
   "source": [
    "print(data_fine.analysis_results(\"d_theta\"))"
   ]
  },
  {
   "cell_type": "markdown",
   "metadata": {},
   "source": [
    "The cell below shows how the amplitude is updated based on the error in the rotation angle measured by the `FineXAmplitude` experiment. Note that this calculation is automatically done by the `Amplitude.update` function."
   ]
  },
  {
   "cell_type": "code",
   "execution_count": 46,
   "metadata": {},
   "outputs": [
    {
     "name": "stdout",
     "output_type": "stream",
     "text": [
      "The ideal angle is 3.14 rad. We measured a deviation of -0.066 rad.\n",
      "Thus, scale the 0.7862+0.0000j pulse amplitude by 1.022 to obtain 0.80316+0.00000j.\n"
     ]
    }
   ],
   "source": [
    "dtheta = data_fine.analysis_results(\"d_theta\").value.value\n",
    "target_angle = np.pi\n",
    "scale = target_angle / (target_angle + dtheta)\n",
    "pulse_amp = cals.get_parameter_value(\"amp\", qubit, \"x\")\n",
    "print(f\"The ideal angle is {target_angle:.2f} rad. We measured a deviation of {dtheta:.3f} rad.\")\n",
    "print(f\"Thus, scale the {pulse_amp:.4f} pulse amplitude by {scale:.3f} to obtain {pulse_amp*scale:.5f}.\")"
   ]
  },
  {
   "cell_type": "code",
   "execution_count": 47,
   "metadata": {},
   "outputs": [],
   "source": [
    "Amplitude.update(cals, data_fine, angles_schedules=[(target_angle, \"amp\", \"x\")])"
   ]
  },
  {
   "cell_type": "code",
   "execution_count": 48,
   "metadata": {},
   "outputs": [
    {
     "data": {
      "text/html": [
       "<div>\n",
       "<style scoped>\n",
       "    .dataframe tbody tr th:only-of-type {\n",
       "        vertical-align: middle;\n",
       "    }\n",
       "\n",
       "    .dataframe tbody tr th {\n",
       "        vertical-align: top;\n",
       "    }\n",
       "\n",
       "    .dataframe thead th {\n",
       "        text-align: right;\n",
       "    }\n",
       "</style>\n",
       "<table border=\"1\" class=\"dataframe\">\n",
       "  <thead>\n",
       "    <tr style=\"text-align: right;\">\n",
       "      <th></th>\n",
       "      <th>value</th>\n",
       "      <th>date_time</th>\n",
       "      <th>valid</th>\n",
       "      <th>exp_id</th>\n",
       "      <th>group</th>\n",
       "      <th>qubits</th>\n",
       "      <th>parameter</th>\n",
       "      <th>schedule</th>\n",
       "    </tr>\n",
       "  </thead>\n",
       "  <tbody>\n",
       "    <tr>\n",
       "      <th>0</th>\n",
       "      <td>0.500000+0.000000j</td>\n",
       "      <td>2021-07-30 17:56:11.297378+0000</td>\n",
       "      <td>True</td>\n",
       "      <td>None</td>\n",
       "      <td>default</td>\n",
       "      <td>()</td>\n",
       "      <td>amp</td>\n",
       "      <td>x</td>\n",
       "    </tr>\n",
       "    <tr>\n",
       "      <th>1</th>\n",
       "      <td>0.500000+0.000000j</td>\n",
       "      <td>2021-07-30 17:53:14.422975+0000</td>\n",
       "      <td>True</td>\n",
       "      <td></td>\n",
       "      <td>default</td>\n",
       "      <td>()</td>\n",
       "      <td>amp</td>\n",
       "      <td>x</td>\n",
       "    </tr>\n",
       "    <tr>\n",
       "      <th>2</th>\n",
       "      <td>0.250000+0.000000j</td>\n",
       "      <td>2021-07-30 17:56:11.297407+0000</td>\n",
       "      <td>True</td>\n",
       "      <td>None</td>\n",
       "      <td>default</td>\n",
       "      <td>()</td>\n",
       "      <td>amp</td>\n",
       "      <td>sx</td>\n",
       "    </tr>\n",
       "    <tr>\n",
       "      <th>3</th>\n",
       "      <td>0.250000+0.000000j</td>\n",
       "      <td>2021-07-30 17:53:14.422995+0000</td>\n",
       "      <td>True</td>\n",
       "      <td></td>\n",
       "      <td>default</td>\n",
       "      <td>()</td>\n",
       "      <td>amp</td>\n",
       "      <td>sx</td>\n",
       "    </tr>\n",
       "    <tr>\n",
       "      <th>4</th>\n",
       "      <td>0.786215+0.000000j</td>\n",
       "      <td>2021-07-31 02:56:07.570000+0900</td>\n",
       "      <td>True</td>\n",
       "      <td>fb23c9c4-1ef9-4c69-a623-0ff4dad4a956</td>\n",
       "      <td>default</td>\n",
       "      <td>(0,)</td>\n",
       "      <td>amp</td>\n",
       "      <td>x</td>\n",
       "    </tr>\n",
       "    <tr>\n",
       "      <th>5</th>\n",
       "      <td>0.803163+0.000000j</td>\n",
       "      <td>2021-07-31 02:58:42.977000+0900</td>\n",
       "      <td>True</td>\n",
       "      <td>65378703-3c55-4193-aa42-81e69425aa42</td>\n",
       "      <td>default</td>\n",
       "      <td>(0,)</td>\n",
       "      <td>amp</td>\n",
       "      <td>x</td>\n",
       "    </tr>\n",
       "    <tr>\n",
       "      <th>6</th>\n",
       "      <td>0.393107+0.000000j</td>\n",
       "      <td>2021-07-31 02:56:07.570000+0900</td>\n",
       "      <td>True</td>\n",
       "      <td>fb23c9c4-1ef9-4c69-a623-0ff4dad4a956</td>\n",
       "      <td>default</td>\n",
       "      <td>(0,)</td>\n",
       "      <td>amp</td>\n",
       "      <td>sx</td>\n",
       "    </tr>\n",
       "  </tbody>\n",
       "</table>\n",
       "</div>"
      ],
      "text/plain": [
       "                value                        date_time  valid  \\\n",
       "0  0.500000+0.000000j  2021-07-30 17:56:11.297378+0000   True   \n",
       "1  0.500000+0.000000j  2021-07-30 17:53:14.422975+0000   True   \n",
       "2  0.250000+0.000000j  2021-07-30 17:56:11.297407+0000   True   \n",
       "3  0.250000+0.000000j  2021-07-30 17:53:14.422995+0000   True   \n",
       "4  0.786215+0.000000j  2021-07-31 02:56:07.570000+0900   True   \n",
       "5  0.803163+0.000000j  2021-07-31 02:58:42.977000+0900   True   \n",
       "6  0.393107+0.000000j  2021-07-31 02:56:07.570000+0900   True   \n",
       "\n",
       "                                 exp_id    group qubits parameter schedule  \n",
       "0                                  None  default     ()       amp        x  \n",
       "1                                        default     ()       amp        x  \n",
       "2                                  None  default     ()       amp       sx  \n",
       "3                                        default     ()       amp       sx  \n",
       "4  fb23c9c4-1ef9-4c69-a623-0ff4dad4a956  default   (0,)       amp        x  \n",
       "5  65378703-3c55-4193-aa42-81e69425aa42  default   (0,)       amp        x  \n",
       "6  fb23c9c4-1ef9-4c69-a623-0ff4dad4a956  default   (0,)       amp       sx  "
      ]
     },
     "execution_count": 48,
     "metadata": {},
     "output_type": "execute_result"
    }
   ],
   "source": [
    "pd.DataFrame(cals.parameters_table(qubit_list=[qubit, ()], parameters=\"amp\"))"
   ]
  },
  {
   "cell_type": "markdown",
   "metadata": {},
   "source": [
    "To check that we have managed to reduce the error in the rotation angle we will run the fine amplitude calibration experiment once again."
   ]
  },
  {
   "cell_type": "code",
   "execution_count": 49,
   "metadata": {},
   "outputs": [],
   "source": [
    "amp_x_cal.set_experiment_options(schedule=cals.get_schedule(\"x\", qubit))"
   ]
  },
  {
   "cell_type": "code",
   "execution_count": 50,
   "metadata": {},
   "outputs": [
    {
     "data": {
      "text/plain": [
       "ExperimentData(FineXAmplitude, cd788032-5b57-43b9-939a-38e158b2290b, backend=ibmq_armonk, job_ids=['61043dd7c2c8569398bbe00d'])"
      ]
     },
     "execution_count": 50,
     "metadata": {},
     "output_type": "execute_result"
    }
   ],
   "source": [
    "data_fine2 = amp_x_cal.run(backend)\n",
    "data_fine2.block_for_results()"
   ]
  },
  {
   "cell_type": "code",
   "execution_count": 51,
   "metadata": {},
   "outputs": [
    {
     "data": {
      "image/png": "[encoded data removed]",
      "text/plain": [
       "<Figure size 576x360 with 1 Axes>"
      ]
     },
     "execution_count": 51,
     "metadata": {},
     "output_type": "execute_result"
    }
   ],
   "source": [
    "data_fine2.figure(0)"
   ]
  },
  {
   "cell_type": "markdown",
   "metadata": {},
   "source": [
    "As can be seen from the data above and the analysis result below we have managed to reduce the error in the rotation angle ${\\rm d}\\theta$."
   ]
  },
  {
   "cell_type": "code",
   "execution_count": 52,
   "metadata": {},
   "outputs": [
    {
     "name": "stdout",
     "output_type": "stream",
     "text": [
      "DbAnalysisResultV1\n",
      "- name: d_theta\n",
      "- value: -0.01342494104730634 ± 0.00123755860439784\n",
      "- χ²: 1.0175384109483505\n",
      "- quality: good\n",
      "- device_components: ['Q0']\n",
      "- verified: False\n"
     ]
    }
   ],
   "source": [
    "print(data_fine2.analysis_results(\"d_theta\"))"
   ]
  },
  {
   "cell_type": "markdown",
   "metadata": {},
   "source": [
    "### Fine amplitude calibration of the $\\pi/2$ rotation\n",
    "\n",
    "We now wish to calibrate the amplitude of the $\\pi/2$ rotation."
   ]
  },
  {
   "cell_type": "code",
   "execution_count": 53,
   "metadata": {},
   "outputs": [],
   "source": [
    "from qiskit_experiments.library.calibration.fine_amplitude import FineSXAmplitude"
   ]
  },
  {
   "cell_type": "code",
   "execution_count": 55,
   "metadata": {},
   "outputs": [],
   "source": [
    "amp_sx_cal = FineSXAmplitude(qubit)\n",
    "amp_sx_cal.set_experiment_options(schedule=cals.get_schedule(\"sx\", qubit))"
   ]
  },
  {
   "cell_type": "code",
   "execution_count": 56,
   "metadata": {},
   "outputs": [
    {
     "data": {
      "image/png": "[encoded data removed]",
      "text/plain": [
       "<Figure size 1320.88x144.48 with 1 Axes>"
      ]
     },
     "execution_count": 56,
     "metadata": {},
     "output_type": "execute_result"
    }
   ],
   "source": [
    "amp_sx_cal.circuits(backend)[5].draw(output=\"mpl\")"
   ]
  },
  {
   "cell_type": "code",
   "execution_count": 57,
   "metadata": {},
   "outputs": [
    {
     "data": {
      "text/plain": [
       "ExperimentData(FineSXAmplitude, 974aec93-a139-40f5-8417-2d781c1defb4, backend=ibmq_armonk, job_ids=['61043e0c1e71b01061bfc3d5'])"
      ]
     },
     "execution_count": 57,
     "metadata": {},
     "output_type": "execute_result"
    }
   ],
   "source": [
    "data_fine_sx = amp_sx_cal.run(backend)\n",
    "data_fine_sx.block_for_results()"
   ]
  },
  {
   "cell_type": "code",
   "execution_count": 58,
   "metadata": {},
   "outputs": [
    {
     "data": {
      "image/png": "[encoded data removed]",
      "text/plain": [
       "<Figure size 576x360 with 1 Axes>"
      ]
     },
     "execution_count": 58,
     "metadata": {},
     "output_type": "execute_result"
    }
   ],
   "source": [
    "data_fine_sx.figure(0)"
   ]
  },
  {
   "cell_type": "code",
   "execution_count": 59,
   "metadata": {},
   "outputs": [
    {
     "name": "stdout",
     "output_type": "stream",
     "text": [
      "DbAnalysisResultV1\n",
      "- name: d_theta\n",
      "- value: 0.10255665062411463 ± 0.0009757998694015175\n",
      "- χ²: 1.0600906241777\n",
      "- quality: good\n",
      "- device_components: ['Q0']\n",
      "- verified: False\n"
     ]
    }
   ],
   "source": [
    "print(data_fine_sx.analysis_results(\"d_theta\"))"
   ]
  },
  {
   "cell_type": "code",
   "execution_count": 60,
   "metadata": {},
   "outputs": [],
   "source": [
    "Amplitude.update(cals, data_fine_sx, angles_schedules=[(np.pi/2, \"amp\", \"sx\")])"
   ]
  },
  {
   "cell_type": "code",
   "execution_count": 61,
   "metadata": {},
   "outputs": [
    {
     "data": {
      "text/html": [
       "<div>\n",
       "<style scoped>\n",
       "    .dataframe tbody tr th:only-of-type {\n",
       "        vertical-align: middle;\n",
       "    }\n",
       "\n",
       "    .dataframe tbody tr th {\n",
       "        vertical-align: top;\n",
       "    }\n",
       "\n",
       "    .dataframe thead th {\n",
       "        text-align: right;\n",
       "    }\n",
       "</style>\n",
       "<table border=\"1\" class=\"dataframe\">\n",
       "  <thead>\n",
       "    <tr style=\"text-align: right;\">\n",
       "      <th></th>\n",
       "      <th>value</th>\n",
       "      <th>date_time</th>\n",
       "      <th>valid</th>\n",
       "      <th>exp_id</th>\n",
       "      <th>group</th>\n",
       "      <th>qubits</th>\n",
       "      <th>parameter</th>\n",
       "      <th>schedule</th>\n",
       "    </tr>\n",
       "  </thead>\n",
       "  <tbody>\n",
       "    <tr>\n",
       "      <th>0</th>\n",
       "      <td>0.500000+0.000000j</td>\n",
       "      <td>2021-07-30 17:56:11.297378+0000</td>\n",
       "      <td>True</td>\n",
       "      <td>None</td>\n",
       "      <td>default</td>\n",
       "      <td>()</td>\n",
       "      <td>amp</td>\n",
       "      <td>x</td>\n",
       "    </tr>\n",
       "    <tr>\n",
       "      <th>1</th>\n",
       "      <td>0.500000+0.000000j</td>\n",
       "      <td>2021-07-30 17:53:14.422975+0000</td>\n",
       "      <td>True</td>\n",
       "      <td></td>\n",
       "      <td>default</td>\n",
       "      <td>()</td>\n",
       "      <td>amp</td>\n",
       "      <td>x</td>\n",
       "    </tr>\n",
       "    <tr>\n",
       "      <th>2</th>\n",
       "      <td>0.250000+0.000000j</td>\n",
       "      <td>2021-07-30 17:56:11.297407+0000</td>\n",
       "      <td>True</td>\n",
       "      <td>None</td>\n",
       "      <td>default</td>\n",
       "      <td>()</td>\n",
       "      <td>amp</td>\n",
       "      <td>sx</td>\n",
       "    </tr>\n",
       "    <tr>\n",
       "      <th>3</th>\n",
       "      <td>0.250000+0.000000j</td>\n",
       "      <td>2021-07-30 17:53:14.422995+0000</td>\n",
       "      <td>True</td>\n",
       "      <td></td>\n",
       "      <td>default</td>\n",
       "      <td>()</td>\n",
       "      <td>amp</td>\n",
       "      <td>sx</td>\n",
       "    </tr>\n",
       "    <tr>\n",
       "      <th>4</th>\n",
       "      <td>0.786215+0.000000j</td>\n",
       "      <td>2021-07-31 02:56:07.570000+0900</td>\n",
       "      <td>True</td>\n",
       "      <td>fb23c9c4-1ef9-4c69-a623-0ff4dad4a956</td>\n",
       "      <td>default</td>\n",
       "      <td>(0,)</td>\n",
       "      <td>amp</td>\n",
       "      <td>x</td>\n",
       "    </tr>\n",
       "    <tr>\n",
       "      <th>5</th>\n",
       "      <td>0.803163+0.000000j</td>\n",
       "      <td>2021-07-31 02:58:42.977000+0900</td>\n",
       "      <td>True</td>\n",
       "      <td>65378703-3c55-4193-aa42-81e69425aa42</td>\n",
       "      <td>default</td>\n",
       "      <td>(0,)</td>\n",
       "      <td>amp</td>\n",
       "      <td>x</td>\n",
       "    </tr>\n",
       "    <tr>\n",
       "      <th>6</th>\n",
       "      <td>0.393107+0.000000j</td>\n",
       "      <td>2021-07-31 02:56:07.570000+0900</td>\n",
       "      <td>True</td>\n",
       "      <td>fb23c9c4-1ef9-4c69-a623-0ff4dad4a956</td>\n",
       "      <td>default</td>\n",
       "      <td>(0,)</td>\n",
       "      <td>amp</td>\n",
       "      <td>sx</td>\n",
       "    </tr>\n",
       "    <tr>\n",
       "      <th>7</th>\n",
       "      <td>0.369015+0.000000j</td>\n",
       "      <td>2021-07-31 03:00:06.651000+0900</td>\n",
       "      <td>True</td>\n",
       "      <td>974aec93-a139-40f5-8417-2d781c1defb4</td>\n",
       "      <td>default</td>\n",
       "      <td>(0,)</td>\n",
       "      <td>amp</td>\n",
       "      <td>sx</td>\n",
       "    </tr>\n",
       "  </tbody>\n",
       "</table>\n",
       "</div>"
      ],
      "text/plain": [
       "                value                        date_time  valid  \\\n",
       "0  0.500000+0.000000j  2021-07-30 17:56:11.297378+0000   True   \n",
       "1  0.500000+0.000000j  2021-07-30 17:53:14.422975+0000   True   \n",
       "2  0.250000+0.000000j  2021-07-30 17:56:11.297407+0000   True   \n",
       "3  0.250000+0.000000j  2021-07-30 17:53:14.422995+0000   True   \n",
       "4  0.786215+0.000000j  2021-07-31 02:56:07.570000+0900   True   \n",
       "5  0.803163+0.000000j  2021-07-31 02:58:42.977000+0900   True   \n",
       "6  0.393107+0.000000j  2021-07-31 02:56:07.570000+0900   True   \n",
       "7  0.369015+0.000000j  2021-07-31 03:00:06.651000+0900   True   \n",
       "\n",
       "                                 exp_id    group qubits parameter schedule  \n",
       "0                                  None  default     ()       amp        x  \n",
       "1                                        default     ()       amp        x  \n",
       "2                                  None  default     ()       amp       sx  \n",
       "3                                        default     ()       amp       sx  \n",
       "4  fb23c9c4-1ef9-4c69-a623-0ff4dad4a956  default   (0,)       amp        x  \n",
       "5  65378703-3c55-4193-aa42-81e69425aa42  default   (0,)       amp        x  \n",
       "6  fb23c9c4-1ef9-4c69-a623-0ff4dad4a956  default   (0,)       amp       sx  \n",
       "7  974aec93-a139-40f5-8417-2d781c1defb4  default   (0,)       amp       sx  "
      ]
     },
     "execution_count": 61,
     "metadata": {},
     "output_type": "execute_result"
    }
   ],
   "source": [
    "pd.DataFrame(cals.parameters_table(qubit_list=[qubit, ()], parameters=\"amp\"))"
   ]
  },
  {
   "cell_type": "code",
   "execution_count": 62,
   "metadata": {},
   "outputs": [
    {
     "data": {
      "text/plain": [
       "ScheduleBlock(Play(Drag(duration=320, amp=(0.369014607022268+0j), sigma=80, beta=0), DriveChannel(0)), name=\"sx\", transform=AlignLeft())"
      ]
     },
     "execution_count": 62,
     "metadata": {},
     "output_type": "execute_result"
    }
   ],
   "source": [
    "cals.get_schedule(\"sx\", qubit)"
   ]
  },
  {
   "cell_type": "code",
   "execution_count": 63,
   "metadata": {},
   "outputs": [
    {
     "data": {
      "text/plain": [
       "ScheduleBlock(Play(Drag(duration=320, amp=(0.80316333037296+0j), sigma=80, beta=-0.842466355165788), DriveChannel(0)), name=\"x\", transform=AlignLeft())"
      ]
     },
     "execution_count": 63,
     "metadata": {},
     "output_type": "execute_result"
    }
   ],
   "source": [
    "cals.get_schedule(\"x\", qubit)"
   ]
  },
  {
   "cell_type": "code",
   "execution_count": 64,
   "metadata": {},
   "outputs": [
    {
     "data": {
      "text/plain": [
       "ScheduleBlock(Play(Drag(duration=320, amp=0.80316333037296j, sigma=80, beta=-0.842466355165788), DriveChannel(0)), name=\"y\", transform=AlignLeft())"
      ]
     },
     "execution_count": 64,
     "metadata": {},
     "output_type": "execute_result"
    }
   ],
   "source": [
    "cals.get_schedule(\"y\", qubit)"
   ]
  },
  {
   "cell_type": "code",
   "execution_count": 65,
   "metadata": {},
   "outputs": [
    {
     "data": {
      "text/html": [
       "<div style='width: 100%; background-color:#d5d9e0;padding-left: 10px; padding-bottom: 10px; padding-right: 10px; padding-top: 5px'><h3>This code is a part of Qiskit</h3><p>&copy; Copyright IBM 2017, 2021.</p><p>This code is licensed under the Apache License, Version 2.0. You may<br>obtain a copy of this license in the LICENSE.txt file in the root directory<br> of this source tree or at http://www.apache.org/licenses/LICENSE-2.0.<p>Any modifications or derivative works of this code must retain this<br>copyright notice, and modified files need to carry a notice indicating<br>that they have been altered from the originals.</p></div>"
      ],
      "text/plain": [
       "<IPython.core.display.HTML object>"
      ]
     },
     "metadata": {},
     "output_type": "display_data"
    }
   ],
   "source": [
    "import qiskit.tools.jupyter\n",
    "%qiskit_copyright"
   ]
  },
  {
   "cell_type": "code",
   "execution_count": null,
   "metadata": {},
   "outputs": [],
   "source": []
  }
 ],
 "metadata": {
  "kernelspec": {
   "display_name": "Python 3",
   "language": "python",
   "name": "python3"
  },
  "language_info": {
   "codemirror_mode": {
    "name": "ipython",
    "version": 3
   },
   "file_extension": ".py",
   "mimetype": "text/x-python",
   "name": "python",
   "nbconvert_exporter": "python",
   "pygments_lexer": "ipython3",
   "version": "3.8.0"
  }
 },
 "nbformat": 4,
 "nbformat_minor": 5
}
